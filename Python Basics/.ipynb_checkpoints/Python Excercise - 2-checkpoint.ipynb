{
  "cells": [
    {
      "metadata": {
        "collapsed": true
      },
      "cell_type": "markdown",
      "source": "1. Write a program which accepts a sequence of comma-separated numbers from console and generate a list and a tuple which contains every number.\nSuppose the following input is supplied to the program:\n34,67,55,33,12,98\nThen, the output should be:\n['34', '67', '55', '33', '12', '98']\n('34', '67', '55', '33', '12', '98')"
    },
    {
      "metadata": {
        "trusted": true
      },
      "cell_type": "code",
      "source": "",
      "execution_count": null,
      "outputs": []
    },
    {
      "metadata": {},
      "cell_type": "markdown",
      "source": "2. Two scientists designed a device which can communicate via secret codes. However, designed output should be in words sorted aphabetically and should only contain unique words. Please write a Python program to help them. \n\nSuppose the following input is supplied to the program:\nWelcome to India, Welcome to BVRIT\n\nThen, the output should be:\nBVRIT India, Welcome to\n"
    },
    {
      "metadata": {
        "trusted": true
      },
      "cell_type": "code",
      "source": "",
      "execution_count": null,
      "outputs": []
    },
    {
      "metadata": {},
      "cell_type": "markdown",
      "source": "3. Ramesh recently got join in a bank, his job is to calculate the balance of a bank account based on transactions log. the data is in following format\n\n\nD 100\nW 200\n\nD means deposit while W means withdrawal.\n\nSuppose the following input is supplied to the program:\nD 300\nD 300\nW 200\nD 100\nThen, the output should be:\n500\n\nHints:\nMultiple data is supplied through input, program should continue taking input until blank input is supplied."
    },
    {
      "metadata": {
        "trusted": true
      },
      "cell_type": "code",
      "source": "",
      "execution_count": null,
      "outputs": []
    },
    {
      "metadata": {},
      "cell_type": "markdown",
      "source": "4. Shivani is working in recearch center. Her job is to count freuency of each word in a given sencence or paragraph. Please write a code to help her. The output should give frequency of each word in alphabetical order (Capital Letters shoud be First)\n\nSuppose the following input is supplied to the program:\nThe first second was alright, but the second second was tough.\nThen, the output should be:\nThe:1\nalright,:1\nbut:1\nfirst:1\nsecond:3\nthe:1\ntough.:1\nwas:2\n\n"
    },
    {
      "metadata": {
        "trusted": true
      },
      "cell_type": "code",
      "source": "",
      "execution_count": null,
      "outputs": []
    },
    {
      "metadata": {},
      "cell_type": "markdown",
      "source": "5. A website requires the users to input username and password to register. Write a program to check the validity of password input by users.\nFollowing are the criteria for checking the password:\n\n At least 1 letter between [a-z]\n \n At least 1 number between [0-9]\n \n At least 1 letter between [A-Z]\n \n At least 1 character from [$#@]\n \n Minimum length of transaction password: 6\n \n Maximum length of transaction password: 12\n \n \nYour program should accept an input and will check them according to the above criteria. Password that match the criteria is to be printed.\n\nExamples\n\nInput: \nABd1234@1\nOutput: \nPassword is Accepted; Your password is: ABd1234@1\n\nInput: \n2We3345\nOutput: \nPassword is NOT Accepted; Choose Another Password\n\nHINT: You need to use Regular Expressions for this program, You can import by using import re\n\n"
    },
    {
      "metadata": {
        "trusted": true
      },
      "cell_type": "code",
      "source": "",
      "execution_count": null,
      "outputs": []
    },
    {
      "metadata": {
        "trusted": true
      },
      "cell_type": "code",
      "source": "",
      "execution_count": null,
      "outputs": []
    }
  ],
  "metadata": {
    "kernelspec": {
      "name": "python36",
      "display_name": "Python 3.6",
      "language": "python"
    },
    "language_info": {
      "mimetype": "text/x-python",
      "nbconvert_exporter": "python",
      "name": "python",
      "pygments_lexer": "ipython3",
      "version": "3.6.6",
      "file_extension": ".py",
      "codemirror_mode": {
        "version": 3,
        "name": "ipython"
      }
    }
  },
  "nbformat": 4,
  "nbformat_minor": 2
}