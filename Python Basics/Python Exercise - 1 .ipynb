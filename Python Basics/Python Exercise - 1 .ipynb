{
  "cells": [
    {
      "metadata": {},
      "cell_type": "markdown",
      "source": "Program : 1 \nWrite program to check whether an integer is a prime number or not using for loop and if...else statement. If the number is not prime, it's explained in output why it is not a prime number."
    },
    {
      "metadata": {
        "trusted": true
      },
      "cell_type": "code",
      "source": "num = 407\n\n# take input from the user\n# num = int(input(\"Enter a number: \"))\n\n# prime numbers are greater than 1\nif num > 1:\n   # check for factors\n   for i in range(2,num):\n       if (num % i) == 0:\n           print(num,\"is not a prime number\")\n           print(i,\"times\",num//i,\"is\",num)\n           break\n   else:\n       print(num,\"is a prime number\")\n       \n# if input number is less than\n# or equal to 1, it is not prime\nelse:\n   print(num,\"is not a prime number\")",
      "execution_count": 24,
      "outputs": [
        {
          "output_type": "stream",
          "text": "407 is not a prime number\n11 times 37 is 407\n",
          "name": "stdout"
        }
      ]
    },
    {
      "metadata": {},
      "cell_type": "markdown",
      "source": "Program : 2 \n\nDefine a function that can accept two strings as input and print the string with maximum length in console. If two strings have the same length, then the function should print al l strings line by line.\n"
    },
    {
      "metadata": {
        "trusted": true
      },
      "cell_type": "code",
      "source": "\ndef printValue(s1,s2):\n\tlen1 = len(s1)\n\tlen2 = len(s2)\n\tif len1>len2:\n\t\tprint (s1)\n\telif len2>len1:\n\t\tprint (s2)\n\telse:\n\t\tprint (s1)\n\t\tprint (s2)\n\t\t\n\nprint(\"Test: - 1: Inputs: 'one' & 'three' \\nOutput:\")\nprintValue(\"one\",\"three\")\nprint(\"Test: - 2: Inputs: 'oneee' & 'three' \\nOutput:\")\nprintValue(\"oneee\",\"three\")\n",
      "execution_count": 12,
      "outputs": [
        {
          "output_type": "stream",
          "text": "Test: - 1: Inputs: 'one' & 'three' \nOutput:\nthree\nTest: - 2: Inputs: 'oneee' & 'three' \nOutput:\noneee\nthree\n",
          "name": "stdout"
        }
      ]
    },
    {
      "metadata": {},
      "cell_type": "markdown",
      "source": "\nProgram : 3\n\nWrite a program that calculates and prints the value according to the given formula:\nQ = Square root of [(2 * C * D)/H]\nFollowing are the fixed values of C and H:\nC is 50. H is 30.\nD is the variable whose values should be input to your program in a comma-separated sequence.\nExample\nLet us assume the following comma separated input sequence is given to the program:\n100,150,180\nThe output of the program should be:\n18,22,24"
    },
    {
      "metadata": {
        "trusted": true
      },
      "cell_type": "code",
      "source": "import math\nc=50\nh=30\ninput1 = [100,150,180]\nvalue = []\nitems=[x for x in input1]\nfor d in items:\n    value.append(str(int(round(math.sqrt(2*c*float(d)/h)))))\n\nprint (','.join(value))",
      "execution_count": 17,
      "outputs": [
        {
          "output_type": "stream",
          "text": "18,22,24\n",
          "name": "stdout"
        }
      ]
    },
    {
      "metadata": {},
      "cell_type": "markdown",
      "source": "Program : 4\n\nA robot moves in a plane starting from the original point (0,0). The robot can move toward UP, DOWN, LEFT and RIGHT with a given steps. The trace of robot movement is shown as the following:\nUP 5\nDOWN 3\nLEFT 3\nRIGHT 2\n\nThe numbers after the direction are steps. Please write a program to compute the distance from current position after a sequence of movement and original point. If the distance is a float, then just print the nearest integer.\nExample:\nIf the following tuples are given as input to the program:\nUP 5\nDOWN 3\nLEFT 3\nRIGHT 2\nThen, the output of the program should be:\n2\n\n"
    },
    {
      "metadata": {
        "trusted": true
      },
      "cell_type": "code",
      "source": "import math\npos = [0,0]\nwhile True:\n    s = input('enter movements')\n    if not s:\n        break\n    movement = s.split(\" \")\n    direction = movement[0]\n    steps = int(movement[1])\n    if direction==\"UP\":\n        pos[0]+=steps\n    elif direction==\"DOWN\":\n        pos[0]-=steps\n    elif direction==\"LEFT\":\n        pos[1]-=steps\n    elif direction==\"RIGHT\":\n        pos[1]+=steps\n    else:\n        pass\n\nprint (round(math.sqrt(pos[1]**2+pos[0]**2)))",
      "execution_count": 25,
      "outputs": [
        {
          "output_type": "error",
          "ename": "TypeError",
          "evalue": "'list' object is not callable",
          "traceback": [
            "\u001b[0;31m---------------------------------------------------------------------------\u001b[0m",
            "\u001b[0;31mTypeError\u001b[0m                                 Traceback (most recent call last)",
            "\u001b[0;32m<ipython-input-25-a3e68eb5419c>\u001b[0m in \u001b[0;36m<module>\u001b[0;34m\u001b[0m\n\u001b[1;32m      2\u001b[0m \u001b[0mpos\u001b[0m \u001b[0;34m=\u001b[0m \u001b[0;34m[\u001b[0m\u001b[0;36m0\u001b[0m\u001b[0;34m,\u001b[0m\u001b[0;36m0\u001b[0m\u001b[0;34m]\u001b[0m\u001b[0;34m\u001b[0m\u001b[0m\n\u001b[1;32m      3\u001b[0m \u001b[0;32mwhile\u001b[0m \u001b[0;32mTrue\u001b[0m\u001b[0;34m:\u001b[0m\u001b[0;34m\u001b[0m\u001b[0m\n\u001b[0;32m----> 4\u001b[0;31m     \u001b[0ms\u001b[0m \u001b[0;34m=\u001b[0m \u001b[0minput\u001b[0m\u001b[0;34m(\u001b[0m\u001b[0;34m'enter movements'\u001b[0m\u001b[0;34m)\u001b[0m\u001b[0;34m\u001b[0m\u001b[0m\n\u001b[0m\u001b[1;32m      5\u001b[0m     \u001b[0;32mif\u001b[0m \u001b[0;32mnot\u001b[0m \u001b[0ms\u001b[0m\u001b[0;34m:\u001b[0m\u001b[0;34m\u001b[0m\u001b[0m\n\u001b[1;32m      6\u001b[0m         \u001b[0;32mbreak\u001b[0m\u001b[0;34m\u001b[0m\u001b[0m\n",
            "\u001b[0;31mTypeError\u001b[0m: 'list' object is not callable"
          ]
        }
      ]
    },
    {
      "metadata": {},
      "cell_type": "raw",
      "source": "Program : 5\n\nWrite a program that accepts a sentence and calculate the number of letters and digits.\nSuppose the following input is supplied to the program:\nhello world! 123\nThen, the output should be:\nLETTERS 10\nDIGITS 3"
    },
    {
      "metadata": {
        "trusted": true
      },
      "cell_type": "code",
      "source": "\ns = 'hello world! 123'\nd={\"DIGITS\":0, \"LETTERS\":0}\nfor c in s:\n    if c.isdigit():\n        d[\"DIGITS\"]+=1\n    elif c.isalpha():\n        d[\"LETTERS\"]+=1\n    else:\n        pass\nprint (\"LETTERS\", d[\"LETTERS\"])\nprint (\"DIGITS\", d[\"DIGITS\"])",
      "execution_count": 23,
      "outputs": [
        {
          "output_type": "stream",
          "text": "LETTERS 10\nDIGITS 3\n",
          "name": "stdout"
        }
      ]
    },
    {
      "metadata": {
        "trusted": true
      },
      "cell_type": "code",
      "source": "",
      "execution_count": null,
      "outputs": []
    }
  ],
  "metadata": {
    "kernelspec": {
      "name": "python36",
      "display_name": "Python 3.6",
      "language": "python"
    },
    "language_info": {
      "mimetype": "text/x-python",
      "nbconvert_exporter": "python",
      "name": "python",
      "pygments_lexer": "ipython3",
      "version": "3.6.6",
      "file_extension": ".py",
      "codemirror_mode": {
        "version": 3,
        "name": "ipython"
      }
    }
  },
  "nbformat": 4,
  "nbformat_minor": 1
}